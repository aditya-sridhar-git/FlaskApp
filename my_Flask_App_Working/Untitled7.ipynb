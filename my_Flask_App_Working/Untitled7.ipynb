{
 "cells": [
  {
   "cell_type": "code",
   "execution_count": 129,
   "id": "1027834f-9f95-48b9-b3db-4cc052bec036",
   "metadata": {},
   "outputs": [],
   "source": [
    "import pandas as pd\n",
    "import numpy as np\n",
    "import matplotlib.pyplot as plt\n",
    "import seaborn as sns\n",
    "\n",
    "\n",
    "file_path = \"travel_data.csv\" #accessing the file path of the excel sheet\n",
    "data = pd.read_csv(file_path) #creating dataframe with the specified filepath\n",
    "data.dropna(inplace=True)  # Remove rows with missing values"
   ]
  },
  {
   "cell_type": "code",
   "execution_count": 131,
   "id": "9a2ca8bf-f0a7-4689-ad26-61d517179d90",
   "metadata": {},
   "outputs": [
    {
     "name": "stdout",
     "output_type": "stream",
     "text": [
      "  Vehicle_Type Fuel_Type  Total_Distance  Start_lat  Start_lon  Stop_lat  \\\n",
      "0          Car    Petrol           8.812     12.960     77.621    13.026   \n",
      "1          Car    Diesel           7.000     12.960     77.621    13.026   \n",
      "2          Car  Electric           2.000     12.960     77.621    13.026   \n",
      "3          Car    Petrol           8.812     12.960     77.621    13.026   \n",
      "4          Bus    Diesel           5.200     13.412     77.621    12.960   \n",
      "5          Bus    Diesel           0.000     12.960     77.621    12.960   \n",
      "6          Bus    Diesel           0.000     12.960     77.621    12.960   \n",
      "\n",
      "   Stop_lon  \n",
      "0    77.576  \n",
      "1    77.576  \n",
      "2    77.576  \n",
      "3    74.576  \n",
      "4    77.621  \n",
      "5    77.621  \n",
      "6    77.621  \n"
     ]
    }
   ],
   "source": [
    "print(data)"
   ]
  },
  {
   "cell_type": "code",
   "execution_count": 133,
   "id": "008396c4-c690-4523-9798-b1c007d50582",
   "metadata": {},
   "outputs": [
    {
     "data": {
      "text/plain": [
       "Vehicle_Type       object\n",
       "Fuel_Type          object\n",
       "Total_Distance    float64\n",
       "Start_lat         float64\n",
       "Start_lon         float64\n",
       "Stop_lat          float64\n",
       "Stop_lon          float64\n",
       "dtype: object"
      ]
     },
     "execution_count": 133,
     "metadata": {},
     "output_type": "execute_result"
    }
   ],
   "source": [
    "data.dtypes"
   ]
  },
  {
   "cell_type": "code",
   "execution_count": 63,
   "id": "178f5c13-7fa7-466f-abe4-be4e176b0ada",
   "metadata": {},
   "outputs": [],
   "source": [
    "#energy_rates = {\n",
    "#    'electric': 0.15,  # kWh/km\n",
    "#    'petrol': 0.12,    # liters/km\n",
    "#    'diesel': 0.10     # liters/km\n",
    "#} \n",
    "\n",
    "\n"
   ]
  },
  {
   "cell_type": "code",
   "execution_count": 61,
   "id": "a74cf3a5-b119-4240-9249-b432110f12d9",
   "metadata": {},
   "outputs": [],
   "source": [
    "#energy_rates['electric'], energy_rates['petrol'], energy_rates['diesel']"
   ]
  },
  {
   "cell_type": "code",
   "execution_count": 11,
   "id": "1e43a76d-7941-4181-b007-33fb576b88d7",
   "metadata": {},
   "outputs": [],
   "source": [
    "#def calculate_energy(row):\n",
    "    #fuel_type = row['Fuel_Type'].lower()\n",
    "    #return row['Total_Distance'] * energy_rates[fuel_type]"
   ]
  },
  {
   "cell_type": "code",
   "execution_count": 135,
   "id": "dd580a0f-2425-41bb-b171-7a1afb766c10",
   "metadata": {},
   "outputs": [],
   "source": [
    "#mileage values for in km/liter and km/kwh (electric) for different combinations of vehicles.\n",
    "energy_rates = {            \n",
    "    ('bus','diesel'): 4.5,\n",
    "    ('auto','petrol'): 30,\n",
    "    ('car','petrol'): 17.5,\n",
    "    ('car','diesel'): 21.5,\n",
    "    ('car','electric'): 6.5\n",
    "\n",
    "}"
   ]
  },
  {
   "cell_type": "code",
   "execution_count": 137,
   "id": "c5010fae-6d8a-4437-a33a-b4ab06b2b16c",
   "metadata": {},
   "outputs": [],
   "source": [
    "emission_factors = {\n",
    "    'electric': 0,          # kg CO2/kWh (assumed clean energy source)\n",
    "    'petrol': 2.31,         # kg CO2/liter\n",
    "    'diesel': 2.68          # kg CO2/liter\n",
    "}\n"
   ]
  },
  {
   "cell_type": "code",
   "execution_count": 139,
   "id": "8abe0c53-1c8b-46c4-ab88-67bc7363da86",
   "metadata": {},
   "outputs": [],
   "source": [
    "# Add Energy and Carbon Footprint Columns\n",
    "def calculate_energy(row):\n",
    "    fuel_type = row['Fuel_Type'].lower()\n",
    "    vehicle_type = row['Vehicle_Type'].lower()\n",
    "    print(fuel_type,vehicle_type)\n",
    "    return row['Total_Distance'] / (energy_rates.get((vehicle_type,fuel_type), 0))"
   ]
  },
  {
   "cell_type": "code",
   "execution_count": 141,
   "id": "d0fd7eda-b5ff-4ce3-8b4a-8390e22adb7c",
   "metadata": {},
   "outputs": [],
   "source": [
    "def calculate_emissions(row):\n",
    "    fuel_type = row['Fuel_Type'].lower()\n",
    "    return calculate_energy(row) * emission_factors.get(fuel_type, 0) "
   ]
  },
  {
   "cell_type": "code",
   "execution_count": 143,
   "id": "b6888d02-8c1e-4502-a83b-21026f1a9950",
   "metadata": {},
   "outputs": [
    {
     "name": "stdout",
     "output_type": "stream",
     "text": [
      "petrol car\n",
      "diesel car\n",
      "electric car\n",
      "petrol car\n",
      "diesel bus\n",
      "diesel bus\n",
      "diesel bus\n"
     ]
    }
   ],
   "source": [
    "data['Energy_Consumed'] = data.apply(calculate_energy, axis=1)"
   ]
  },
  {
   "cell_type": "code",
   "execution_count": 145,
   "id": "3665034c-d913-4a9a-ad4b-0aa499e1e012",
   "metadata": {},
   "outputs": [
    {
     "name": "stdout",
     "output_type": "stream",
     "text": [
      "petrol car\n",
      "diesel car\n",
      "electric car\n",
      "petrol car\n",
      "diesel bus\n",
      "diesel bus\n",
      "diesel bus\n"
     ]
    }
   ],
   "source": [
    "data['Carbon_Footprint'] = data.apply(calculate_emissions, axis=1)"
   ]
  },
  {
   "cell_type": "code",
   "execution_count": 147,
   "id": "7fb50d65-cb79-4bcb-923f-2b33577a4134",
   "metadata": {},
   "outputs": [
    {
     "name": "stdout",
     "output_type": "stream",
     "text": [
      "  Vehicle_Type Fuel_Type  Total_Distance  Start_lat  Start_lon  Stop_lat  \\\n",
      "0          Car    Petrol           8.812     12.960     77.621    13.026   \n",
      "1          Car    Diesel           7.000     12.960     77.621    13.026   \n",
      "2          Car  Electric           2.000     12.960     77.621    13.026   \n",
      "3          Car    Petrol           8.812     12.960     77.621    13.026   \n",
      "4          Bus    Diesel           5.200     13.412     77.621    12.960   \n",
      "5          Bus    Diesel           0.000     12.960     77.621    12.960   \n",
      "6          Bus    Diesel           0.000     12.960     77.621    12.960   \n",
      "\n",
      "   Stop_lon  Energy_Consumed  Carbon_Footprint  \n",
      "0    77.576         0.503543          1.163184  \n",
      "1    77.576         0.325581          0.872558  \n",
      "2    77.576         0.307692          0.000000  \n",
      "3    74.576         0.503543          1.163184  \n",
      "4    77.621         1.155556          3.096889  \n",
      "5    77.621         0.000000          0.000000  \n",
      "6    77.621         0.000000          0.000000  \n"
     ]
    }
   ],
   "source": [
    "print(data)\n"
   ]
  },
  {
   "cell_type": "code",
   "execution_count": 149,
   "id": "46f2f8c8-4bcd-4e65-bc55-73fe5dfeebca",
   "metadata": {},
   "outputs": [],
   "source": [
    "data.to_csv(\"processedData.csv\")"
   ]
  },
  {
   "cell_type": "code",
   "execution_count": 151,
   "id": "386a4eeb-570d-4836-a1bb-f38d67438a9c",
   "metadata": {},
   "outputs": [
    {
     "name": "stdout",
     "output_type": "stream",
     "text": [
      "  Vehicle_Type Fuel_Type  Total_Distance  Start_lat  Start_lon  Stop_lat  \\\n",
      "0          Car    Petrol           8.812     12.960     77.621    13.026   \n",
      "1          Car    Diesel           7.000     12.960     77.621    13.026   \n",
      "2          Car  Electric           2.000     12.960     77.621    13.026   \n",
      "3          Car    Petrol           8.812     12.960     77.621    13.026   \n",
      "4          Bus    Diesel           5.200     13.412     77.621    12.960   \n",
      "5          Bus    Diesel           0.000     12.960     77.621    12.960   \n",
      "6          Bus    Diesel           0.000     12.960     77.621    12.960   \n",
      "\n",
      "   Stop_lon  Energy_Consumed  Carbon_Footprint  \n",
      "0    77.576         0.503543          1.163184  \n",
      "1    77.576         0.325581          0.872558  \n",
      "2    77.576         0.307692          0.000000  \n",
      "3    74.576         0.503543          1.163184  \n",
      "4    77.621         1.155556          3.096889  \n",
      "5    77.621         0.000000          0.000000  \n",
      "6    77.621         0.000000          0.000000  \n"
     ]
    }
   ],
   "source": [
    "print(data)"
   ]
  },
  {
   "cell_type": "code",
   "execution_count": 157,
   "id": "7493283d-25d4-4e52-bca1-615a919ef29e",
   "metadata": {},
   "outputs": [],
   "source": [
    "# Aggregate Analysis\n",
    "summary = data.groupby(['Vehicle_Type', 'Fuel_Type']).agg({\n",
    "    'Total_Distance': 'sum',\n",
    "    'Energy_Consumed': 'sum',\n",
    "    'Carbon_Footprint': 'sum'\n",
    "}).reset_index()\n"
   ]
  },
  {
   "cell_type": "code",
   "execution_count": 161,
   "id": "3fec679a-d255-48c0-8910-1f005e864b1d",
   "metadata": {},
   "outputs": [
    {
     "name": "stdout",
     "output_type": "stream",
     "text": [
      "  Vehicle_Type Fuel_Type  Total_Distance  Energy_Consumed  Carbon_Footprint\n",
      "0          Bus    Diesel           5.200         1.155556          3.096889\n",
      "1          Car    Diesel           7.000         0.325581          0.872558\n",
      "2          Car  Electric           2.000         0.307692          0.000000\n",
      "3          Car    Petrol          17.624         1.007086          2.326368\n"
     ]
    }
   ],
   "source": [
    "print(summary)"
   ]
  },
  {
   "cell_type": "code",
   "execution_count": 177,
   "id": "36d4a320-e97e-4a63-b6f6-fde69e7c231e",
   "metadata": {},
   "outputs": [
    {
     "data": {
      "image/png": "[encoded data removed]",
      "text/plain": [
       "<Figure size 1200x600 with 1 Axes>"
      ]
     },
     "metadata": {},
     "output_type": "display_data"
    }
   ],
   "source": [
    "# Visualization of the data\n",
    "plt.figure(figsize=(12, 6))\n",
    "sns.barplot(data=summary, x='Vehicle_Type', y='Carbon_Footprint', hue='Fuel_Type')\n",
    "plt.title('Carbon Footprint by Vehicle and Fuel Type')\n",
    "plt.xlabel('Vehicle Type')\n",
    "plt.ylabel('Total Carbon Footprint (kg CO2)')\n",
    "plt.legend(title='Fuel Type')\n",
    "plt.show()"
   ]
  },
  {
   "cell_type": "code",
   "execution_count": 181,
   "id": "6016cd61-a8ad-4717-a263-cb0790b60c27",
   "metadata": {},
   "outputs": [
    {
     "data": {
      "image/png": "[encoded data removed]",
      "text/plain": [
       "<Figure size 1000x600 with 1 Axes>"
      ]
     },
     "metadata": {},
     "output_type": "display_data"
    }
   ],
   "source": [
    "# Histogram of Energy Consumption\n",
    "plt.figure(figsize=(10, 6))\n",
    "sns.histplot(data['Energy_Consumed'], kde=True, bins=30)\n",
    "plt.title('Distribution of Energy Consumption')\n",
    "plt.xlabel('Energy Consumed (kWh or Liters)')\n",
    "plt.ylabel('Frequency')\n",
    "plt.show()\n",
    "\n",
    "\n",
    "\n",
    "\n"
   ]
  },
  {
   "cell_type": "code",
   "execution_count": 175,
   "id": "22ecba02-54ee-41a1-b103-6e3798cb72b0",
   "metadata": {},
   "outputs": [
    {
     "name": "stdout",
     "output_type": "stream",
     "text": [
      "High-emission trips identified for optimization:\n",
      "   Vehicle_Type Fuel_Type  Total_Distance  Start_lat  Start_lon  Stop_lat  \\\n",
      "0          Car    Petrol           8.812     12.960     77.621    13.026   \n",
      "3          Car    Petrol           8.812     12.960     77.621    13.026   \n",
      "4          Bus    Diesel           5.200     13.412     77.621    12.960   \n",
      "\n",
      "   Stop_lon  Energy_Consumed  Carbon_Footprint  \n",
      "0    77.576         0.503543          1.163184  \n",
      "3    74.576         0.503543          1.163184  \n",
      "4    77.621         1.155556          3.096889  \n"
     ]
    }
   ],
   "source": [
    "# Recommendations\n",
    "high_emission_trips = data[data['Carbon_Footprint'] > data['Carbon_Footprint'].mean()]\n",
    "print(\"High-emission trips identified for optimization:\\n\", high_emission_trips)"
   ]
  },
  {
   "cell_type": "code",
   "execution_count": null,
   "id": "5f693a61-a22a-4c9b-9368-31713649fbdf",
   "metadata": {},
   "outputs": [],
   "source": []
  },
  {
   "cell_type": "code",
   "execution_count": null,
   "id": "12a48e1b-d8b4-428a-852f-47685a7b291d",
   "metadata": {},
   "outputs": [],
   "source": [
    "# Data Cleaning - Checking for missing values and removing and row if found\n",
    "\n",
    "\n",
    "#data['distance'] = data['distance'].astype(float)  # Ensure distance is numeric\n",
    "\n",
    "# Define Energy Consumption and Emission Rates\n",
    "\n",
    "#energy_rates = {\n",
    "#   'electric': 0.15,  # kWh/km\n",
    "#   'petrol': 0.12,    # liters/km\n",
    "#   'diesel': 0.10     # liters/km\n",
    "#}\n",
    "\n",
    "\n",
    "\n",
    "energy_rates = {             #mileage values for in km/liter and km/kwh (electric) for different combinations of vehicles.\n",
    "    ('bus','diesel'): 4.5\n",
    "    ('auto','petrol'): 30\n",
    "    ('car','petrol'): 17.5\n",
    "    ('car','diesel'): 21.5\n",
    "    ('car','electric'): 6.5\n",
    "\n",
    "}\n",
    "emission_factors = {\n",
    "    'electric': 0,          # kg CO2/kWh (assumed clean energy source)\n",
    "    'petrol': 2.31,         # kg CO2/liter\n",
    "    'diesel': 2.68          # kg CO2/liter\n",
    "}\n",
    "\n",
    "# Add Energy and Carbon Footprint Columns\n",
    "def calculate_energy(row):\n",
    "    fuel_type = row['Fuel_Type'].lower()\n",
    "    vehicle_type = row['Vehicle_Type'].lower()\n",
    "    return row['Total_Distance'] / energy_rates.get((fuel_type,vehicle_type), 0)\n",
    "\n",
    "def calculate_emissions(row):\n",
    "    fuel_type = row['Fuel_Type'].lower()\n",
    "    return calculate_energy(row) * emission_factors.get(fuel_type, 0) \n",
    "\n",
    "data['energy_consumed'] = data.apply(calculate_energy, axis=1)\n",
    "data['carbon_footprint'] = data.apply(calculate_emissions, axis=1)\n",
    "\n",
    "# Aggregate Analysis\n",
    "summary = data.groupby(['Vehicle_Type', 'Fuel_Type']).agg({\n",
    "    'Total_Distance': 'sum',\n",
    "    'Energy_Consumed': 'sum',\n",
    "    'Carbon_Footprint': 'sum'\n",
    "}).reset_index()\n",
    "\n",
    "# Visualization\n",
    "plt.figure(figsize=(12, 6))\n",
    "sns.barplot(data=summary, x='vehicleType', y='carbon_footprint', hue='fuelType')\n",
    "plt.title('Carbon Footprint by Vehicle and Fuel Type')\n",
    "plt.xlabel('Vehicle Type')\n",
    "plt.ylabel('Total Carbon Footprint (kg CO2)')\n",
    "plt.legend(title='Fuel Type')\n",
    "plt.show()\n",
    "\n",
    "# Histogram of Energy Consumption\n",
    "plt.figure(figsize=(10, 6))\n",
    "sns.histplot(data['energy_consumed'], kde=True, bins=30)\n",
    "plt.title('Distribution of Energy Consumption')\n",
    "plt.xlabel('Energy Consumed (kWh or Liters)')\n",
    "plt.ylabel('Frequency')\n",
    "plt.show()\n",
    "\n",
    "# Recommendations\n",
    "high_emission_trips = data[data['carbon_footprint'] > data['carbon_footprint'].mean()]\n",
    "print(\"High-emission trips identified for optimization:\\n\", high_emission_trips)\n",
    "\n"
   ]
  }
 ],
 "metadata": {
  "kernelspec": {
   "display_name": "Python 3 (ipykernel)",
   "language": "python",
   "name": "python3"
  },
  "language_info": {
   "codemirror_mode": {
    "name": "ipython",
    "version": 3
   },
   "file_extension": ".py",
   "mimetype": "text/x-python",
   "name": "python",
   "nbconvert_exporter": "python",
   "pygments_lexer": "ipython3",
   "version": "3.12.7"
  }
 },
 "nbformat": 4,
 "nbformat_minor": 5
}
